{
 "cells": [
  {
   "cell_type": "code",
   "execution_count": 25,
   "id": "ba882eee-719f-4b3d-a863-ec84e02e3004",
   "metadata": {},
   "outputs": [],
   "source": [
    "using AeroAcoustics\n",
    "using HDF5\n",
    "using DelimitedFiles # for data export\n",
    "using DSP # for Hanning window"
   ]
  },
  {
   "cell_type": "code",
   "execution_count": 26,
   "id": "1d6c1f9a-e2e0-4805-8498-48111e4503ab",
   "metadata": {},
   "outputs": [
    {
     "data": {
      "text/plain": [
       "\"DTU_PLCT_NACA63018_trip_5PS_5SS_U0_50_AoA_0_octave-12_CsmEss.h5\""
      ]
     },
     "metadata": {},
     "output_type": "display_data"
    }
   ],
   "source": [
    "time_file = \"DTU_PLCT_NACA63018_trip_5PS_5SS_U0_50_AoA_0_TimeSeries.h5\"\n",
    "csm_file = \"DTU_PLCT_NACA63018_trip_5PS_5SS_U0_50_AoA_0_octave-12_CsmEss.h5\""
   ]
  },
  {
   "cell_type": "markdown",
   "id": "586c25b1",
   "metadata": {},
   "source": [
    "## Task 1"
   ]
  },
  {
   "cell_type": "code",
   "execution_count": 27,
   "id": "001f7c54",
   "metadata": {},
   "outputs": [],
   "source": [
    "# Collect time-series data and microphone geometry\n",
    "function DTU_AIAAreadTimeseries(destfile::String)\n",
    "    h5open(destfile, \"r\") do file\n",
    "        MicrophoneData = read(file, \"MicrophoneData\")\n",
    "        t = MicrophoneData[\"microphoneDataPa\"]\n",
    "        t = permutedims(t,reverse(1:ndims(t)))\n",
    "        MetaData = read(file, \"MetaData\")\n",
    "        micgeom = MetaData[\"ArrayAttributes\"][\"microphonePositionsM\"]\n",
    "        return t,micgeom\n",
    "    end\n",
    "    \n",
    "end\n",
    "t,micgeom = DTU_AIAAreadTimeseries(time_file);"
   ]
  },
  {
   "cell_type": "code",
   "execution_count": 28,
   "id": "b6a42975",
   "metadata": {},
   "outputs": [
    {
     "data": {
      "text/plain": [
       "Dict{String, Any} with 2 entries:\n",
       "  \"sampleCount\"  => 327680\n",
       "  \"sampleRateHz\" => 16384"
      ]
     },
     "metadata": {},
     "output_type": "display_data"
    }
   ],
   "source": [
    "# Collect meta data\n",
    "ArrayAttributes = h5readattr(time_file,\"MetaData/ArrayAttributes\")\n",
    "MeasurementData = h5readattr(time_file,\"MeasurementData\")\n",
    "TestAttributes = h5readattr(time_file,\"MetaData/TestAttributes\")\n",
    "MicrophoneData = h5readattr(time_file,\"MicrophoneData/microphoneDataPa\")"
   ]
  },
  {
   "cell_type": "code",
   "execution_count": 29,
   "id": "c2cb6ada",
   "metadata": {},
   "outputs": [],
   "source": [
    "fs = MicrophoneData[\"sampleRateHz\"]\n",
    "n = 4096\n",
    "CSM = csm(t;n=n,noverlap=div(n,2),fs=fs,win=DSP.hanning(n),scaling=\"spectrum\");"
   ]
  },
  {
   "cell_type": "code",
   "execution_count": 30,
   "id": "928d0a4f",
   "metadata": {},
   "outputs": [],
   "source": [
    "# Locate indices of fc = 500Hz and 1000Hz:\n",
    "fc = [500,1000]\n",
    "f_idx = Int.(fc/(fs/n)).+1\n",
    "for (fi,fc) in zip(f_idx,fc)\n",
    "    CSM_out = CSM.arr[:,:,fi]\n",
    "    writedlm(\"data/task1_DTU_AeroAcousticsjl_CSM_real_f_$(fc).csv\",  real.(CSM_out), ';')\n",
    "    writedlm(\"data/task1_DTU_AeroAcousticsjl_CSM_imag_f_$(fc).csv\",  imag.(CSM_out), ';')\n",
    "end\n"
   ]
  },
  {
   "cell_type": "markdown",
   "id": "4c2ae8ae",
   "metadata": {},
   "source": [
    "## Task 2"
   ]
  },
  {
   "cell_type": "code",
   "execution_count": 31,
   "id": "4510f0cd",
   "metadata": {},
   "outputs": [],
   "source": [
    "# To compute the psf, an environment must be defined, which requires a cross-spectral matrix.\n",
    "# This can be instantiated with some fake data.\n",
    "fc = [500,1000,2000,4000]\n",
    "CSM = FreqArray(rand(84,84,4),fc)\n",
    "E = Environment(\n",
    "    CSM=CSM,\n",
    "    micgeom=micgeom,\n",
    "    z0 = TestAttributes[\"domainBoundsM\"][1][3],\n",
    "    dr = false,\n",
    "    Nx = 41,\n",
    "    Ny = 41,\n",
    "    xlim = (-1,1),\n",
    "    ylim = (-1,1),\n",
    "    flim = (500,4000)\n",
    ");\n",
    "steeringvectors!(E)\n",
    "p = psf(E);"
   ]
  },
  {
   "cell_type": "code",
   "execution_count": 32,
   "id": "e9255640",
   "metadata": {},
   "outputs": [],
   "source": [
    "for (fc,pif) in zip(fc,eachcol(p))\n",
    "    writedlm(\"data/task2_DTU_AeroAcousticsjl_PSF_f_$(fc).csv\",  reshape(pif,41,41), ';')\n",
    "end"
   ]
  },
  {
   "cell_type": "markdown",
   "id": "6099eca3",
   "metadata": {},
   "source": [
    "## Task 3"
   ]
  },
  {
   "cell_type": "code",
   "execution_count": 33,
   "id": "5c048c39-a528-498b-bd39-f7d0d8db3ceb",
   "metadata": {},
   "outputs": [],
   "source": [
    "# Collect CSM-data and microphone geometry\n",
    "function DTU_AIAAreadCSM(destfile::String)\n",
    "    h5open(destfile, \"r\") do file\n",
    "        CsmData = read(file, \"CsmData\")\n",
    "        fc = CsmData[\"binCenterFrequenciesHz\"]\n",
    "        CSM = CsmData[\"csmReal\"]+im*CsmData[\"csmImaginary\"]\n",
    "        CSM = permutedims(CSM,reverse(1:ndims(CSM)))\n",
    "        MetaData = read(file, \"MetaData\")\n",
    "        micgeom = MetaData[\"ArrayAttributes\"][\"microphonePositionsM\"]\n",
    "        return FreqArray(CSM,fc),micgeom\n",
    "    end\n",
    "    \n",
    "end\n",
    "CSM,micgeom = DTU_AIAAreadCSM(csm_file);"
   ]
  },
  {
   "cell_type": "code",
   "execution_count": 34,
   "id": "06c5bb66-1916-4d19-9771-4f783f58aebb",
   "metadata": {},
   "outputs": [
    {
     "data": {
      "text/plain": [
       "Dict{String, Any} with 5 entries:\n",
       "  \"domainBoundsM\"       => @NamedTuple{1::Float64, 2::Float64, 3::Float64}[(var…\n",
       "  \"flowType\"            => \"kevlar\"\n",
       "  \"machNumber\"          => [0.150235, 0.0, 0.0]\n",
       "  \"coordinateReference\" => \"array center\"\n",
       "  \"testDescription\"     => \"Airfoil in kevlar-walled wind tunnel\""
      ]
     },
     "metadata": {},
     "output_type": "display_data"
    }
   ],
   "source": [
    "# Collect meta data\n",
    "ArrayAttributes = h5readattr(csm_file,\"MetaData/ArrayAttributes\")\n",
    "CsmData = h5readattr(csm_file,\"CsmData\")\n",
    "MeasurementData = h5readattr(csm_file,\"MeasurementData\")\n",
    "TestAttributes = h5readattr(csm_file,\"MetaData/TestAttributes\")"
   ]
  },
  {
   "cell_type": "code",
   "execution_count": 35,
   "id": "57c2419c",
   "metadata": {},
   "outputs": [],
   "source": [
    "# Setup environment\n",
    "E = Environment(\n",
    "    CSM=CSM,\n",
    "    micgeom=micgeom,\n",
    "    z0 = TestAttributes[\"domainBoundsM\"][1][3],\n",
    "    dr = true,\n",
    "    Nx = 81,\n",
    "    Ny = 41,\n",
    "    xlim = (-2,2),\n",
    "    ylim = (-1,1),\n",
    "    flim = (400,4000)\n",
    ");\n",
    "steeringvectors!(E)"
   ]
  },
  {
   "cell_type": "code",
   "execution_count": 36,
   "id": "8e870e60",
   "metadata": {},
   "outputs": [],
   "source": [
    "b = beamforming(E);"
   ]
  },
  {
   "cell_type": "code",
   "execution_count": 37,
   "id": "b2d4c67f",
   "metadata": {},
   "outputs": [],
   "source": [
    "# Locate indices of fc = 500Hz, 1000Hz, 2000Hz, 4000Hz:\n",
    "fc = [500,1000,2000,4000]\n",
    "f_idx =  [argmin(abs.(E.fn .- fc)) for fc in fc] # finds index in E.fn that is closest to fc\n",
    "\n",
    "for (fi,fc) in zip(f_idx,fc)\n",
    "    writedlm(\"data/task3_DTU_AeroAcousticsjl_CBF_f_$(fc).csv\",  reshape(SPL.(b[:,fi]),81,41), ';')\n",
    "end"
   ]
  },
  {
   "cell_type": "markdown",
   "id": "82b4ac4b",
   "metadata": {},
   "source": [
    "## Task 4"
   ]
  },
  {
   "cell_type": "code",
   "execution_count": 38,
   "id": "1f724609",
   "metadata": {},
   "outputs": [],
   "source": [
    "x = cleanSC(E;ϕ=0.5,maxiter=100);"
   ]
  },
  {
   "cell_type": "code",
   "execution_count": 39,
   "id": "59a18792",
   "metadata": {},
   "outputs": [],
   "source": [
    "# Locate indices of fc = 500Hz, 1000Hz, 2000Hz, 4000Hz:\n",
    "fc = [500,1000,2000,4000]\n",
    "f_idx =  [argmin(abs.(E.fn .- fc)) for fc in fc] # finds index in E.fn that is closest to fc\n",
    "\n",
    "for (fi,fc) in zip(f_idx,fc)\n",
    "    writedlm(\"data/task4_DTU_AeroAcousticsjl_CleanSC_f_$(fc).csv\",  reshape(SPL.(x[:,fi]),81,41), ';')\n",
    "end"
   ]
  },
  {
   "cell_type": "markdown",
   "id": "8c458b86",
   "metadata": {},
   "source": [
    "## Task 5"
   ]
  },
  {
   "cell_type": "code",
   "execution_count": 18,
   "id": "306255c1",
   "metadata": {},
   "outputs": [],
   "source": [
    "# Setup environment with shear-layer\n",
    "c = MeasurementData[\"speedOfSoundMPerS\"]\n",
    "Ma = TestAttributes[\"machNumber\"][1]\n",
    "E = Environment(\n",
    "    CSM=CSM,\n",
    "    micgeom=micgeom,\n",
    "    z0 = TestAttributes[\"domainBoundsM\"][1][3],\n",
    "    dr = true,\n",
    "    shear = true,\n",
    "    Ma = -Ma,\n",
    "    c = c,\n",
    "    h = 1.5,\n",
    "    Nx = 81,\n",
    "    Ny = 41,\n",
    "    xlim = (-2,2),\n",
    "    ylim = (-1,1),\n",
    "    flim = (400,4000)\n",
    ");\n",
    "steeringvectors!(E)"
   ]
  },
  {
   "cell_type": "code",
   "execution_count": 19,
   "id": "330872d1",
   "metadata": {},
   "outputs": [],
   "source": [
    "b = beamforming(E);"
   ]
  },
  {
   "cell_type": "code",
   "execution_count": 20,
   "id": "703a0f6b",
   "metadata": {},
   "outputs": [],
   "source": [
    "# Locate indices of fc = 500Hz, 1000Hz, 2000Hz, 4000Hz:\n",
    "fc = [500,1000,2000,4000]\n",
    "f_idx =  [argmin(abs.(E.fn .- fc)) for fc in fc] # finds index in E.fn that is closest to fc\n",
    "\n",
    "for (fi,fc) in zip(f_idx,fc)\n",
    "    writedlm(\"data/task5_DTU_AeroAcousticsjl_CBF_f_$(fc).csv\",  reshape(SPL.(b[:,fi]),81,41), ';')\n",
    "end"
   ]
  },
  {
   "cell_type": "markdown",
   "id": "a701a89a",
   "metadata": {},
   "source": [
    "## Task 6"
   ]
  },
  {
   "cell_type": "code",
   "execution_count": 21,
   "id": "32c2c200",
   "metadata": {},
   "outputs": [],
   "source": [
    "# Source integration region\n",
    "limits = [−0.5,0.5,−0.4,0.4]\n",
    "srcint_cbf = sourceintegration(b,E,limits);\n",
    "writedlm(\"data/task6_DTU_AeroAcousticsjl_CBF_srcint.csv\",  [E.fn SPL.(srcint_cbf)], ';')"
   ]
  },
  {
   "cell_type": "markdown",
   "id": "cf138a9c",
   "metadata": {},
   "source": [
    "## Task 7"
   ]
  },
  {
   "cell_type": "code",
   "execution_count": 22,
   "id": "6ee78e3d",
   "metadata": {},
   "outputs": [],
   "source": [
    "x = cleanSC(E;ϕ=0.5,maxiter=100);"
   ]
  },
  {
   "cell_type": "code",
   "execution_count": 23,
   "id": "3f11d7ae",
   "metadata": {},
   "outputs": [],
   "source": [
    "# Locate indices of fc = 500Hz, 1000Hz, 2000Hz, 4000Hz:\n",
    "fc = [500,1000,2000,4000]\n",
    "f_idx =  [argmin(abs.(E.fn .- fc)) for fc in fc] # finds index in E.fn that is closest to fc\n",
    "\n",
    "for (fi,fc) in zip(f_idx,fc)\n",
    "    writedlm(\"data/task7_DTU_AeroAcousticsjl_CleanSC_f_$(fc).csv\",  reshape(SPL.(x[:,fi]),81,41), ';')\n",
    "end"
   ]
  },
  {
   "cell_type": "markdown",
   "id": "2366f22e",
   "metadata": {},
   "source": [
    "## Task 8"
   ]
  },
  {
   "cell_type": "code",
   "execution_count": 24,
   "id": "a060a9e7",
   "metadata": {},
   "outputs": [],
   "source": [
    "# Source integration region\n",
    "limits = [−0.5,0.5,−0.4,0.4]\n",
    "srcint_clean = sourceintegration(x,E,limits);\n",
    "writedlm(\"data/task8_DTU_AeroAcousticsjl_CleanSC_srcint.csv\",  [E.fn SPL.(srcint_clean)], ';')"
   ]
  },
  {
   "cell_type": "markdown",
   "id": "fe616822-2b84-4b72-896c-129ef7e604fe",
   "metadata": {},
   "source": []
  }
 ],
 "metadata": {
  "kernelspec": {
   "display_name": "Julia 1.10.0",
   "language": "julia",
   "name": "julia-1.10"
  },
  "language_info": {
   "file_extension": ".jl",
   "mimetype": "application/julia",
   "name": "julia",
   "version": "1.10.0"
  }
 },
 "nbformat": 4,
 "nbformat_minor": 5
}
