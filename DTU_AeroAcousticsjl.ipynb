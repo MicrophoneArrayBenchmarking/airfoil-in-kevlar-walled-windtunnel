{
 "cells": [
  {
   "cell_type": "code",
   "execution_count": 1,
   "id": "ba882eee-719f-4b3d-a863-ec84e02e3004",
   "metadata": {},
   "outputs": [],
   "source": [
    "using AeroAcoustics\n",
    "using HDF5\n",
    "using DelimitedFiles # for data export\n",
    "using DSP # for Hanning window\n",
    "using PyPlot # for plotting"
   ]
  },
  {
   "cell_type": "code",
   "execution_count": 2,
   "id": "1d6c1f9a-e2e0-4805-8498-48111e4503ab",
   "metadata": {},
   "outputs": [
    {
     "data": {
      "text/plain": [
       "\"DTU_PLCT_NACA63018_trip_5PS_5SS_U0_50_AoA_0_octave-12_CsmEss.h5\""
      ]
     },
     "metadata": {},
     "output_type": "display_data"
    }
   ],
   "source": [
    "time_file = \"DTU_PLCT_NACA63018_trip_5PS_5SS_U0_50_AoA_0_TimeSeries.h5\"\n",
    "csm_file = \"DTU_PLCT_NACA63018_trip_5PS_5SS_U0_50_AoA_0_octave-12_CsmEss.h5\""
   ]
  },
  {
   "cell_type": "markdown",
   "id": "586c25b1",
   "metadata": {},
   "source": [
    "## Task 1"
   ]
  },
  {
   "cell_type": "code",
   "execution_count": 7,
   "id": "001f7c54",
   "metadata": {},
   "outputs": [],
   "source": [
    "# Collect time-series data and microphone geometry\n",
    "function DTU_AIAAreadTimeseries(destfile::String)\n",
    "    h5open(destfile, \"r\") do file\n",
    "        MicrophoneData = read(file, \"MicrophoneData\")\n",
    "        t = MicrophoneData[\"microphoneDataPa\"]\n",
    "        t = permutedims(t,reverse(1:ndims(t)))\n",
    "        MetaData = read(file, \"MetaData\")\n",
    "        micgeom = MetaData[\"ArrayAttributes\"][\"microphonePositionsM\"]\n",
    "        return t,micgeom\n",
    "    end\n",
    "    \n",
    "end\n",
    "t,micgeom = DTU_AIAAreadTimeseries(time_file);"
   ]
  },
  {
   "cell_type": "code",
   "execution_count": 14,
   "id": "b6a42975",
   "metadata": {},
   "outputs": [
    {
     "data": {
      "text/plain": [
       "Dict{String, Any} with 2 entries:\n",
       "  \"sampleCount\"  => 84\n",
       "  \"sampleRateHz\" => 16384"
      ]
     },
     "metadata": {},
     "output_type": "display_data"
    }
   ],
   "source": [
    "# Collect meta data\n",
    "ArrayAttributes = h5readattr(time_file,\"MetaData/ArrayAttributes\")\n",
    "MeasurementData = h5readattr(time_file,\"MeasurementData\")\n",
    "TestAttributes = h5readattr(time_file,\"MetaData/TestAttributes\")\n",
    "MicrophoneData = h5readattr(time_file,\"MicrophoneData/microphoneDataPa\")"
   ]
  },
  {
   "cell_type": "code",
   "execution_count": 20,
   "id": "c2cb6ada",
   "metadata": {},
   "outputs": [],
   "source": [
    "fs = MicrophoneData[\"sampleRateHz\"]\n",
    "n = 4096\n",
    "CSM = csm(t;n=n,noverlap=div(n,2),fs=fs,win=DSP.hanning(n),scaling=\"spectrum\");"
   ]
  },
  {
   "cell_type": "code",
   "execution_count": 60,
   "id": "928d0a4f",
   "metadata": {},
   "outputs": [],
   "source": [
    "# Locate indices of fc = 500Hz and 1000Hz:\n",
    "fc = [500,1000]\n",
    "f_idx = Int.(fc/(fs/n)).+1\n",
    "for (fi,fc) in zip(f_idx,fc)\n",
    "    CSM_out = CSM.arr[:,:,fi]\n",
    "    writedlm(\"data/task1_DTU_AeroAcousticsjl_CSM_real_f_$(fc).csv\",  real.(CSM_out), ';')\n",
    "    writedlm(\"data/task1_DTU_AeroAcousticsjl_CSM_imag_f_$(fc).csv\",  imag.(CSM_out), ';')\n",
    "end\n"
   ]
  },
  {
   "cell_type": "markdown",
   "id": "4c2ae8ae",
   "metadata": {},
   "source": [
    "## Task 2"
   ]
  },
  {
   "cell_type": "code",
   "execution_count": 61,
   "id": "4510f0cd",
   "metadata": {},
   "outputs": [
    {
     "data": {
      "text/plain": [
       "1681×4 FreqArray{Float64, 2, Vector{Int64}}:\n",
       " 0.0110854   0.000620191  0.000739052  0.0180986\n",
       " 0.0097512   0.00154288   0.00124666   0.00801647\n",
       " 0.00833005  0.00288905   0.00173099   0.00939586\n",
       " 0.00689083  0.00442991   0.00202488   0.00979164\n",
       " 0.00550971  0.00589915   0.00218199   0.00594576\n",
       " 0.00426578  0.00704082   0.00253651   0.00137886\n",
       " 0.00323576  0.00765815   0.00345576   0.000262808\n",
       " 0.00248817  0.00765247   0.00490896   0.000959484\n",
       " 0.00207747  0.00704216   0.00630797   0.0018869\n",
       " 0.00203855  0.00595615   0.00690009   0.00647067\n",
       " ⋮                                     \n",
       " 0.00218883  0.00015211   0.00143827   0.00241953\n",
       " 0.00267113  0.000116614  0.00200863   0.000479908\n",
       " 0.00348883  0.000106379  0.0029795    0.00149271\n",
       " 0.00457511  0.000114357  0.00419174   0.00138758\n",
       " 0.00584891  0.000141319  0.00506501   0.023112\n",
       " 0.00722228  0.000192292  0.00490171   0.0595317\n",
       " 0.00860736  0.000271646  0.00345635   0.058692\n",
       " 0.00992258  0.000378894  0.00137403   0.0288528\n",
       " 0.0110976   0.000506631  5.77796e-5   0.00958445"
      ]
     },
     "metadata": {},
     "output_type": "display_data"
    }
   ],
   "source": [
    "# To compute the psf, an environment must be defined, which requires a cross-spectral matrix.\n",
    "# This can be instantiated with some fake data.\n",
    "fc = [500,1000,2000,4000]\n",
    "CSM = FreqArray(rand(84,84,4),fc)\n",
    "E = Environment(\n",
    "    CSM=CSM,\n",
    "    micgeom=micgeom,\n",
    "    z0 = TestAttributes[\"domainBoundsM\"][1][3],\n",
    "    dr = false,\n",
    "    Nx = 41,\n",
    "    Ny = 41,\n",
    "    xlim = (-1,1),\n",
    "    ylim = (-1,1),\n",
    "    flim = (500,4000)\n",
    ");\n",
    "steeringvectors!(E)\n",
    "p = psf(E);"
   ]
  },
  {
   "cell_type": "code",
   "execution_count": 66,
   "id": "e9255640",
   "metadata": {},
   "outputs": [],
   "source": [
    "for (fc,pif) in zip(fc,eachcol(p))\n",
    "    writedlm(\"data/task2_DTU_AeroAcousticsjl_PSF_f_$(fc).csv\",  reshape(pif,41,41), ';')\n",
    "end"
   ]
  },
  {
   "cell_type": "markdown",
   "id": "6099eca3",
   "metadata": {},
   "source": [
    "## Task 3"
   ]
  },
  {
   "cell_type": "code",
   "execution_count": 3,
   "id": "5c048c39-a528-498b-bd39-f7d0d8db3ceb",
   "metadata": {},
   "outputs": [],
   "source": [
    "# Collect CSM-data and microphone geometry\n",
    "function DTU_AIAAreadCSM(destfile::String)\n",
    "    h5open(destfile, \"r\") do file\n",
    "        CsmData = read(file, \"CsmData\")\n",
    "        fc = CsmData[\"binCenterFrequenciesHz\"]\n",
    "        CSM = CsmData[\"csmReal\"]+im*CsmData[\"csmImaginary\"]\n",
    "        CSM = permutedims(CSM,reverse(1:ndims(CSM)))\n",
    "        MetaData = read(file, \"MetaData\")\n",
    "        micgeom = MetaData[\"ArrayAttributes\"][\"microphonePositionsM\"]\n",
    "        return FreqArray(CSM,fc),micgeom\n",
    "    end\n",
    "    \n",
    "end\n",
    "CSM,micgeom = DTU_AIAAreadCSM(csm_file);"
   ]
  },
  {
   "cell_type": "code",
   "execution_count": 4,
   "id": "06c5bb66-1916-4d19-9771-4f783f58aebb",
   "metadata": {},
   "outputs": [
    {
     "data": {
      "text/plain": [
       "Dict{String, Any} with 5 entries:\n",
       "  \"domainBoundsM\"       => @NamedTuple{1::Float64, 2::Float64, 3::Float64}[(var…\n",
       "  \"flowType\"            => \"kevlar\"\n",
       "  \"machNumber\"          => [0.150235, 0.0, 0.0]\n",
       "  \"coordinateReference\" => \"array center\"\n",
       "  \"testDescription\"     => \"Airfoil in kevlar-walled wind tunnel\""
      ]
     },
     "metadata": {},
     "output_type": "display_data"
    }
   ],
   "source": [
    "# Collect meta data\n",
    "ArrayAttributes = h5readattr(csm_file,\"MetaData/ArrayAttributes\")\n",
    "CsmData = h5readattr(csm_file,\"CsmData\")\n",
    "MeasurementData = h5readattr(csm_file,\"MeasurementData\")\n",
    "TestAttributes = h5readattr(csm_file,\"MetaData/TestAttributes\")"
   ]
  },
  {
   "cell_type": "code",
   "execution_count": 7,
   "id": "57c2419c",
   "metadata": {},
   "outputs": [],
   "source": [
    "# Setup environment\n",
    "E = Environment(\n",
    "    CSM=CSM,\n",
    "    micgeom=micgeom,\n",
    "    z0 = TestAttributes[\"domainBoundsM\"][1][3],\n",
    "    dr = true,\n",
    "    Nx = 41,\n",
    "    Ny = 41,\n",
    "    xlim = (-2,2),\n",
    "    ylim = (-1,1),\n",
    "    flim = (400,4000)\n",
    ");\n",
    "steeringvectors!(E)"
   ]
  },
  {
   "cell_type": "code",
   "execution_count": 8,
   "id": "8e870e60",
   "metadata": {},
   "outputs": [],
   "source": [
    "b = beamforming(E);"
   ]
  },
  {
   "cell_type": "code",
   "execution_count": 92,
   "id": "b2d4c67f",
   "metadata": {},
   "outputs": [],
   "source": [
    "# Locate indices of fc = 500Hz, 1000Hz, 2000Hz, 4000Hz:\n",
    "fc = [500,1000,2000,4000]\n",
    "f_idx =  [argmin(abs.(E.fn .- fc)) for fc in fc] # finds index in E.fn that is closest to fc\n",
    "\n",
    "for (fi,fc) in zip(f_idx,fc)\n",
    "    writedlm(\"data/task3_DTU_AeroAcousticsjl_CBF_f_$(fc).csv\",  reshape(SPL.(b[:,fi]),41,41), ';')\n",
    "end"
   ]
  },
  {
   "cell_type": "markdown",
   "id": "82b4ac4b",
   "metadata": {},
   "source": [
    "## Task 4"
   ]
  },
  {
   "cell_type": "code",
   "execution_count": 9,
   "id": "1f724609",
   "metadata": {},
   "outputs": [
    {
     "data": {
      "text/plain": [
       "1681×40 FreqArray{Float64, 2, Vector{Float64}}:\n",
       " 0.0         0.0         7.57411e-8  …  0.0  0.0  0.0         0.0  0.0  0.0\n",
       " 0.0         0.0         0.0            0.0  0.0  0.0         0.0  0.0  0.0\n",
       " 0.0         0.0         2.05066e-7     0.0  0.0  0.0         0.0  0.0  0.0\n",
       " 0.0         0.0         0.0            0.0  0.0  0.0         0.0  0.0  0.0\n",
       " 0.0         0.0         0.0            0.0  0.0  0.0         0.0  0.0  0.0\n",
       " 0.0         0.0         0.0         …  0.0  0.0  7.87814e-8  0.0  0.0  0.0\n",
       " 0.0         0.0         0.0            0.0  0.0  0.0         0.0  0.0  0.0\n",
       " 0.0         0.0         0.0            0.0  0.0  0.0         0.0  0.0  0.0\n",
       " 0.0         0.0         0.0            0.0  0.0  0.0         0.0  0.0  0.0\n",
       " 1.01773e-7  0.0         0.0            0.0  0.0  0.0         0.0  0.0  0.0\n",
       " ⋮                                   ⋱       ⋮                          \n",
       " 1.27902e-7  1.75e-7     0.0            0.0  0.0  0.0         0.0  0.0  0.0\n",
       " 3.0089e-7   0.0         7.38984e-7     0.0  0.0  0.0         0.0  0.0  0.0\n",
       " 0.0         0.0         0.0            0.0  0.0  0.0         0.0  0.0  0.0\n",
       " 8.65999e-7  0.0         0.0         …  0.0  0.0  0.0         0.0  0.0  0.0\n",
       " 0.0         0.0         0.0            0.0  0.0  0.0         0.0  0.0  0.0\n",
       " 0.0         0.0         0.0            0.0  0.0  0.0         0.0  0.0  0.0\n",
       " 0.0         0.0         0.0            0.0  0.0  0.0         0.0  0.0  0.0\n",
       " 0.0         0.0         0.0            0.0  0.0  0.0         0.0  0.0  0.0\n",
       " 2.43767e-6  2.20099e-6  2.02646e-6  …  0.0  0.0  0.0         0.0  0.0  0.0"
      ]
     },
     "metadata": {},
     "output_type": "display_data"
    }
   ],
   "source": [
    "x = cleanSC(E;ϕ=0.5,maxiter=100);"
   ]
  },
  {
   "cell_type": "code",
   "execution_count": 10,
   "id": "59a18792",
   "metadata": {},
   "outputs": [],
   "source": [
    "# Locate indices of fc = 500Hz, 1000Hz, 2000Hz, 4000Hz:\n",
    "fc = [500,1000,2000,4000]\n",
    "f_idx =  [argmin(abs.(E.fn .- fc)) for fc in fc] # finds index in E.fn that is closest to fc\n",
    "\n",
    "for (fi,fc) in zip(f_idx,fc)\n",
    "    writedlm(\"data/task4_DTU_AeroAcousticsjl_CleanSC_f_$(fc).csv\",  reshape(SPL.(x[:,fi]),41,41), ';')\n",
    "end"
   ]
  },
  {
   "cell_type": "markdown",
   "id": "8c458b86",
   "metadata": {},
   "source": [
    "## Task 5"
   ]
  },
  {
   "cell_type": "code",
   "execution_count": 11,
   "id": "306255c1",
   "metadata": {},
   "outputs": [],
   "source": [
    "# Setup environment with shear-layer\n",
    "c = MeasurementData[\"speedOfSoundMPerS\"]\n",
    "Ma = TestAttributes[\"machNumber\"][1]\n",
    "E = Environment(\n",
    "    CSM=CSM,\n",
    "    micgeom=micgeom,\n",
    "    z0 = TestAttributes[\"domainBoundsM\"][1][3],\n",
    "    dr = true,\n",
    "    shear = true,\n",
    "    Ma = -Ma,\n",
    "    c = c,\n",
    "    h = 1.5,\n",
    "    Nx = 41,\n",
    "    Ny = 41,\n",
    "    xlim = (-2,2),\n",
    "    ylim = (-1,1),\n",
    "    flim = (400,4000)\n",
    ");\n",
    "steeringvectors!(E)"
   ]
  },
  {
   "cell_type": "code",
   "execution_count": 12,
   "id": "330872d1",
   "metadata": {},
   "outputs": [],
   "source": [
    "b = beamforming(E);"
   ]
  },
  {
   "cell_type": "code",
   "execution_count": 13,
   "id": "703a0f6b",
   "metadata": {},
   "outputs": [],
   "source": [
    "# Locate indices of fc = 500Hz, 1000Hz, 2000Hz, 4000Hz:\n",
    "fc = [500,1000,2000,4000]\n",
    "f_idx =  [argmin(abs.(E.fn .- fc)) for fc in fc] # finds index in E.fn that is closest to fc\n",
    "\n",
    "for (fi,fc) in zip(f_idx,fc)\n",
    "    writedlm(\"data/task5_DTU_AeroAcousticsjl_CBF_f_$(fc).csv\",  reshape(SPL.(b[:,fi]),41,41), ';')\n",
    "end"
   ]
  },
  {
   "cell_type": "markdown",
   "id": "a701a89a",
   "metadata": {},
   "source": [
    "## Task 6"
   ]
  },
  {
   "cell_type": "code",
   "execution_count": 23,
   "id": "32c2c200",
   "metadata": {},
   "outputs": [],
   "source": [
    "# Source integration region\n",
    "limits = [−0.5,0.5,−0.4,0.4]\n",
    "srcint_cbf = sourceintegration(b,E,limits);\n",
    "writedlm(\"data/task6_DTU_AeroAcousticsjl_CBF_srcint.csv\",  [E.fn SPL.(srcint_cbf)], ';')"
   ]
  },
  {
   "cell_type": "markdown",
   "id": "cf138a9c",
   "metadata": {},
   "source": [
    "## Task 7"
   ]
  },
  {
   "cell_type": "code",
   "execution_count": 24,
   "id": "6ee78e3d",
   "metadata": {},
   "outputs": [],
   "source": [
    "x = cleanSC(E;ϕ=0.5,maxiter=100);"
   ]
  },
  {
   "cell_type": "code",
   "execution_count": 25,
   "id": "3f11d7ae",
   "metadata": {},
   "outputs": [],
   "source": [
    "# Locate indices of fc = 500Hz, 1000Hz, 2000Hz, 4000Hz:\n",
    "fc = [500,1000,2000,4000]\n",
    "f_idx =  [argmin(abs.(E.fn .- fc)) for fc in fc] # finds index in E.fn that is closest to fc\n",
    "\n",
    "for (fi,fc) in zip(f_idx,fc)\n",
    "    writedlm(\"data/task7_DTU_AeroAcousticsjl_CleanSC_f_$(fc).csv\",  reshape(SPL.(x[:,fi]),41,41), ';')\n",
    "end"
   ]
  },
  {
   "cell_type": "markdown",
   "id": "2366f22e",
   "metadata": {},
   "source": [
    "## Task 8"
   ]
  },
  {
   "cell_type": "code",
   "execution_count": 26,
   "id": "a060a9e7",
   "metadata": {},
   "outputs": [],
   "source": [
    "# Source integration region\n",
    "limits = [−0.5,0.5,−0.4,0.4]\n",
    "srcint_clean = sourceintegration(x,E,limits);\n",
    "writedlm(\"data/task8_DTU_AeroAcousticsjl_CleanSC_srcint.csv\",  [E.fn SPL.(srcint_clean)], ';')"
   ]
  },
  {
   "cell_type": "markdown",
   "id": "fe616822-2b84-4b72-896c-129ef7e604fe",
   "metadata": {},
   "source": []
  }
 ],
 "metadata": {
  "kernelspec": {
   "display_name": "Julia 1.10.0",
   "language": "julia",
   "name": "julia-1.10"
  },
  "language_info": {
   "file_extension": ".jl",
   "mimetype": "application/julia",
   "name": "julia",
   "version": "1.10.0"
  }
 },
 "nbformat": 4,
 "nbformat_minor": 5
}
