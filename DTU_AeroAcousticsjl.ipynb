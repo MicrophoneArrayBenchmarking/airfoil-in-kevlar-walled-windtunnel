{
 "cells": [
  {
   "cell_type": "code",
   "execution_count": 1,
   "id": "ba882eee-719f-4b3d-a863-ec84e02e3004",
   "metadata": {},
   "outputs": [],
   "source": [
    "using AeroAcoustics\n",
    "using HDF5\n",
    "using PyPlot # only for plotting"
   ]
  },
  {
   "cell_type": "code",
   "execution_count": 2,
   "id": "1d6c1f9a-e2e0-4805-8498-48111e4503ab",
   "metadata": {},
   "outputs": [
    {
     "data": {
      "text/plain": [
       "\"DTU_PLCT_NACA63018_trip_5PS_5SS_U0_50_AoA_0_octave-12_CsmEss.h5\""
      ]
     },
     "execution_count": 2,
     "metadata": {},
     "output_type": "execute_result"
    }
   ],
   "source": [
    "csm_file = \"DTU_PLCT_NACA63018_trip_5PS_5SS_U0_50_AoA_0_octave-12_CsmEss.h5\""
   ]
  },
  {
   "cell_type": "code",
   "execution_count": 28,
   "id": "5c048c39-a528-498b-bd39-f7d0d8db3ceb",
   "metadata": {},
   "outputs": [],
   "source": [
    "# Collect CSM-data and microphone geometry\n",
    "function DTU_AIAAreadCSM(destfile::String)\n",
    "    h5open(destfile, \"r\") do file\n",
    "        CsmData = read(file, \"CsmData\")\n",
    "        fc = CsmData[\"binCenterFrequenciesHz\"]\n",
    "        CSM = CsmData[\"csmReal\"]+im*CsmData[\"csmImaginary\"]\n",
    "        CSM = permutedims(CSM,reverse(1:ndims(CSM)))\n",
    "        MetaData = read(file, \"MetaData\")\n",
    "        micgeom = MetaData[\"ArrayAttributes\"][\"microphonePositionsM\"]\n",
    "        return FreqArray(CSM,fc),micgeom\n",
    "    end\n",
    "    \n",
    "end\n",
    "CSM,micgeom = DTU_AIAAreadCSM(csm_file);"
   ]
  },
  {
   "cell_type": "code",
   "execution_count": 29,
   "id": "06c5bb66-1916-4d19-9771-4f783f58aebb",
   "metadata": {},
   "outputs": [
    {
     "data": {
      "text/plain": [
       "Dict{String, Any} with 5 entries:\n",
       "  \"domainBoundsM\"       => @NamedTuple{1::Float64, 2::Float64, 3::Float64}[(var…\n",
       "  \"flowType\"            => \"kevlar\"\n",
       "  \"machNumber\"          => [0.150235, 0.0, 0.0]\n",
       "  \"coordinateReference\" => \"array center\"\n",
       "  \"testDescription\"     => \"Airfoil in kevlar-walled wind tunnel\""
      ]
     },
     "execution_count": 29,
     "metadata": {},
     "output_type": "execute_result"
    }
   ],
   "source": [
    "# Collect meta data\n",
    "ArrayAttributes = h5readattr(csm_file,\"MetaData/ArrayAttributes\")\n",
    "CsmData = h5readattr(csm_file,\"CsmData\")\n",
    "MeasurementData = h5readattr(csm_file,\"MeasurementData\")\n",
    "TestAttributes = h5readattr(csm_file,\"MetaData/TestAttributes\")"
   ]
  },
  {
   "cell_type": "markdown",
   "id": "6099eca3",
   "metadata": {},
   "source": [
    "Task 3"
   ]
  },
  {
   "cell_type": "code",
   "execution_count": 30,
   "id": "57c2419c",
   "metadata": {},
   "outputs": [],
   "source": [
    "# Setup environment\n",
    "E = Environment(\n",
    "    CSM=CSM,\n",
    "    micgeom=micgeom,\n",
    "    z0 = TestAttributes[\"domainBoundsM\"][1][3],\n",
    "    dr = true,\n",
    "    Nx = 41,\n",
    "    Ny = 41,\n",
    "    xlim = (-2,2),\n",
    "    ylim = (-1,1),\n",
    "    flim = (400,4000)\n",
    ");\n",
    "steeringvectors!(E)"
   ]
  },
  {
   "cell_type": "code",
   "execution_count": 31,
   "id": "8e870e60",
   "metadata": {},
   "outputs": [],
   "source": [
    "b = beamforming(E);\n",
    "b3 = narrow2oct(b,3);"
   ]
  },
  {
   "cell_type": "code",
   "execution_count": 32,
   "id": "b2d4c67f",
   "metadata": {},
   "outputs": [
    {
     "data": {
      "text/plain": [
       "1681×40 Matrix{Float64}:\n",
       " 31.7938  NaN       NaN       NaN       …    7.45792  NaN        16.6077\n",
       " 33.5171   23.745    22.9357  NaN           18.6431   NaN        19.8171\n",
       " 34.8341   28.7318   29.8718  NaN          NaN        NaN       NaN\n",
       " 35.9083   31.2155   32.5923   13.8175     NaN        NaN       NaN\n",
       " 36.8291   32.9449   34.2985   29.3284      16.5513    17.4052  NaN\n",
       " 37.6618   34.3252   35.5002   32.6432  …   18.2601    18.0598   23.2426\n",
       " 38.465    35.5417   36.3967   34.6793      20.3368   NaN        21.1036\n",
       " 39.2959   36.7137   37.1197   36.1473      23.6876   NaN       NaN\n",
       " 40.2046   37.9263   37.8025   37.2975      20.4566   NaN       NaN\n",
       " 41.2234   39.2288   38.5962   38.2849      27.395     25.3939  NaN\n",
       " 42.3551   40.6276   39.6348   39.2471  …   27.4169    25.6662   21.7162\n",
       " 43.5728   42.091    40.9635   40.3103      16.8096   NaN       NaN\n",
       " 44.8298   43.566    42.5106   41.5525     NaN        NaN       NaN\n",
       "  ⋮                                     ⋱                       \n",
       " 47.517    46.0775   45.3817   44.0786     NaN        NaN       NaN\n",
       " 46.4322   44.803    43.8701   41.8954  …  NaN        NaN       NaN\n",
       " 45.3265   43.5616   42.3632   39.5087     NaN        NaN        22.5418\n",
       " 44.2953   42.5255   41.0819   37.4035     NaN        NaN       NaN\n",
       " 43.461    41.8835   40.296    36.518      NaN         19.4486  NaN\n",
       " 42.9342   41.7237   40.1362   37.1099     NaN         17.8125  NaN\n",
       " 42.7553   41.9646   40.4704   38.3215  …  NaN        NaN       NaN\n",
       " 42.8712   42.4329   41.0487   39.5041     NaN        NaN       NaN\n",
       " 43.1763   42.9768   41.6813   40.4736     NaN        NaN       NaN\n",
       " 43.5685   43.506    42.2729   41.2262     NaN        NaN       NaN\n",
       " 43.9772   43.9793   42.7892   41.7997     NaN        NaN        15.8292\n",
       " 44.3629   44.3836   43.2249   42.2342  …   11.9601    13.2047   19.6406"
      ]
     },
     "execution_count": 32,
     "metadata": {},
     "output_type": "execute_result"
    }
   ],
   "source": [
    "# need to store this in /data\n",
    "SPL.(b)"
   ]
  },
  {
   "cell_type": "code",
   "execution_count": 39,
   "id": "c991e001",
   "metadata": {},
   "outputs": [
    {
     "data": {
      "image/png": "[encoded data removed]",
      "text/plain": [
       "Figure(PyObject <Figure size 640x480 with 2 Axes>)"
      ]
     },
     "metadata": {},
     "output_type": "display_data"
    },
    {
     "data": {
      "text/plain": [
       "PyObject Text(24.0, 0.5, 'y [m]')"
      ]
     },
     "execution_count": 39,
     "metadata": {},
     "output_type": "execute_result"
    }
   ],
   "source": [
    "idx = 7\n",
    "cmax = SPL(maximum(filter(!isnan,b3[:,idx])))\n",
    "cmin = cmax-12\n",
    "pcolormesh(E.rx,E.ry,reshape(SPL.(b3[:,idx]),E.Nx,E.Ny)',vmin=cmin, vmax=cmax)\n",
    "cbar=colorbar()\n",
    "cbar.set_label(\"dB\")\n",
    "xlim(reverse(xlim()))\n",
    "title(\"f=$(b3.fc[idx])Hz, \")\n",
    "xlabel(\"x [m]\")\n",
    "ylabel(\"y [m]\")"
   ]
  },
  {
   "cell_type": "markdown",
   "id": "fe616822-2b84-4b72-896c-129ef7e604fe",
   "metadata": {},
   "source": []
  }
 ],
 "metadata": {
  "kernelspec": {
   "display_name": "Julia 1.10.0",
   "language": "julia",
   "name": "julia-1.10"
  },
  "language_info": {
   "file_extension": ".jl",
   "mimetype": "application/julia",
   "name": "julia",
   "version": "1.10.0"
  }
 },
 "nbformat": 4,
 "nbformat_minor": 5
}
