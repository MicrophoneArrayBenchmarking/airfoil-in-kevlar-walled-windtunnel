{
 "cells": [
  {
   "cell_type": "code",
   "execution_count": 1,
   "id": "b53786bf-87fc-498b-9e2e-c377bbeeda49",
   "metadata": {},
   "outputs": [],
   "source": [
    "import acoular as ac\n",
    "import numpy as np\n",
    "import matplotlib.pyplot as plt\n",
    "from acoular.tools import TimeSamplesAIAABenchmark, MicAIAABenchmark, CsmAIAABenchmark\n",
    "from pathlib import Path"
   ]
  },
  {
   "cell_type": "markdown",
   "id": "3efd08a2-6b72-427a-8a28-fc724028de6f",
   "metadata": {},
   "source": [
    "## Get the data\n",
    "from [data.dtu.dk](https://doi.org/10.11583/DTU.c.7222614) and put it in this folder."
   ]
  },
  {
   "cell_type": "code",
   "execution_count": 2,
   "id": "9d3b141d-e332-43ae-9b4b-06e6046c66a0",
   "metadata": {},
   "outputs": [],
   "source": [
    "time_file = \"DTU_PLCT_NACA63018_trip_5PS_5SS_U0_50_AoA_0_TimeSeries.h5\"\n",
    "csm_file = \"DTU_PLCT_NACA63018_trip_5PS_5SS_U0_50_AoA_0_octave-12_CsmEss.h5\"\n",
    "data = Path('data')"
   ]
  },
  {
   "cell_type": "markdown",
   "id": "25816db2-a150-4246-a395-dec5a88f535e",
   "metadata": {},
   "source": [
    "## Task1"
   ]
  },
  {
   "cell_type": "code",
   "execution_count": 3,
   "id": "f31a1b16-e57d-4e86-924f-911a39736371",
   "metadata": {},
   "outputs": [
    {
     "name": "stderr",
     "output_type": "stream",
     "text": [
      "/home/sarradj/anaconda3/envs/acoular/lib/python3.12/site-packages/tables/path.py:137: NaturalNameWarning: object name is not a valid Python identifier: '1'; it does not match the pattern ``^[a-zA-Z_][a-zA-Z0-9_]*$``; you will not be able to use natural naming to access this object; using ``getattr()`` will still work, though\n",
      "  check_attribute_name(name)\n",
      "/home/sarradj/anaconda3/envs/acoular/lib/python3.12/site-packages/tables/path.py:137: NaturalNameWarning: object name is not a valid Python identifier: '2'; it does not match the pattern ``^[a-zA-Z_][a-zA-Z0-9_]*$``; you will not be able to use natural naming to access this object; using ``getattr()`` will still work, though\n",
      "  check_attribute_name(name)\n",
      "/home/sarradj/anaconda3/envs/acoular/lib/python3.12/site-packages/tables/path.py:137: NaturalNameWarning: object name is not a valid Python identifier: '3'; it does not match the pattern ``^[a-zA-Z_][a-zA-Z0-9_]*$``; you will not be able to use natural naming to access this object; using ``getattr()`` will still work, though\n",
      "  check_attribute_name(name)\n"
     ]
    },
    {
     "name": "stdout",
     "output_type": "stream",
     "text": [
      "[('DTU_PLCT_NACA63018_trip_5PS_5SS_U0_50_AoA_0_TimeSeries_cache.h5', 1)]\n"
     ]
    }
   ],
   "source": [
    "ts = TimeSamplesAIAABenchmark(name=time_file)\n",
    "ps = ac.PowerSpectra(time_data=ts, block_size=4096, overlap='50%', window='Hanning')\n",
    "for f in (500,1000):\n",
    "    ind = np.searchsorted(ps.fftfreq(),f)\n",
    "    np.savetxt(data / f'task1_TUB_Acoular_CSM_real_f_{f}.csv', ps.csm[ind].real, delimiter=';')\n",
    "    np.savetxt(data / f'task1_TUB_Acoular_CSM_imag_f_{f}.csv', ps.csm[ind].imag, delimiter=';')    "
   ]
  },
  {
   "cell_type": "markdown",
   "id": "acdfa529-614d-4bda-8c6c-93496acac3ce",
   "metadata": {},
   "source": [
    "## Task2"
   ]
  },
  {
   "cell_type": "code",
   "execution_count": 4,
   "id": "f0681006-ef94-4f0d-8a66-3c36cfdbd5e1",
   "metadata": {},
   "outputs": [
    {
     "name": "stdout",
     "output_type": "stream",
     "text": [
      "[('DTU_PLCT_NACA63018_trip_5PS_5SS_U0_50_AoA_0_TimeSeries_cache.h5', 1), ('psf_c94a7a1d531ca7b3cb3f838f7c7218c8_cache.h5', 1)]\n"
     ]
    }
   ],
   "source": [
    "mg = MicAIAABenchmark(from_file=time_file)\n",
    "rg = ac.RectGrid(x_min=-1.0, x_max=1.0, y_min=-1.0, y_max=1.0, z=2.3,increment=0.05)\n",
    "env = ac.Environment(c=338.21164) # see speedOfSoundMPersS in time_file\n",
    "st = ac.SteeringVector(env=env, mics=mg, grid=rg, steer_type='true level') # true level = formulation III\n",
    "psf = ac.PointSpreadFunction(steer=st, calcmode='single', grid_indices=(rg.size//2,)) # grid center\n",
    "for f in (500,1000,2000,4000):\n",
    "    psf.freq = f\n",
    "    thepsf = psf.psf.reshape(rg.shape)\n",
    "    np.savetxt(data / f'task2_TUB_Acoular_PSF_f_{f}.csv', thepsf, delimiter=';')"
   ]
  },
  {
   "cell_type": "markdown",
   "id": "a3f673ee-d589-42d0-90ff-a3befa435728",
   "metadata": {},
   "source": [
    "## Task3"
   ]
  },
  {
   "cell_type": "code",
   "execution_count": 5,
   "id": "da52752f-572c-42b5-9873-da990f7bb77c",
   "metadata": {},
   "outputs": [
    {
     "name": "stdout",
     "output_type": "stream",
     "text": [
      "[('DTU_PLCT_NACA63018_trip_5PS_5SS_U0_50_AoA_0_TimeSeries_cache.h5', 1), ('psf_c94a7a1d531ca7b3cb3f838f7c7218c8_cache.h5', 1), ('DTU_PLCT_NACA63018_trip_5PS_5SS_U0_50_AoA_0_octave-12_CsmEss_cache.h5', 1)]\n"
     ]
    },
    {
     "name": "stderr",
     "output_type": "stream",
     "text": [
      "/tmp/ipykernel_73993/1576060373.py:8: RuntimeWarning: divide by zero encountered in log10\n",
      "  map = 10*np.log10(bb.synthetic(ps1.fftfreq()[ind],0))+94\n"
     ]
    }
   ],
   "source": [
    "ps1 = CsmAIAABenchmark(name=csm_file)\n",
    "rg.x_min = -2.0\n",
    "rg.x_max = 2.0 # we have now 41 by 81 points, however\n",
    "st.env = env\n",
    "bb = ac.BeamformerBase(freq_data=ps1, steer=st, r_diag=True)\n",
    "for f in (500,1000,2000,4000):\n",
    "    ind = np.argmin((ps1.fftfreq()-f)**2)\n",
    "    map = 10*np.log10(bb.synthetic(ps1.fftfreq()[ind],0))+94\n",
    "    np.savetxt(data / f'task3_TUB_Acoular_CBF_f_{f}.csv', map, delimiter=';')\n",
    "    #plt.figure()\n",
    "    #plt.imshow(ac.L_p(map.T),vmin=0)\n",
    "    #plt.colorbar()"
   ]
  },
  {
   "cell_type": "markdown",
   "id": "b2ab157b-5185-4739-bff2-88b216aadc98",
   "metadata": {},
   "source": [
    "## Task4"
   ]
  },
  {
   "cell_type": "code",
   "execution_count": 6,
   "id": "06cf95bd-9052-4b18-bfac-6318a70dd4dc",
   "metadata": {},
   "outputs": [
    {
     "name": "stdout",
     "output_type": "stream",
     "text": [
      "[('DTU_PLCT_NACA63018_trip_5PS_5SS_U0_50_AoA_0_TimeSeries_cache.h5', 1), ('psf_c94a7a1d531ca7b3cb3f838f7c7218c8_cache.h5', 1), ('DTU_PLCT_NACA63018_trip_5PS_5SS_U0_50_AoA_0_octave-12_CsmEss_cache.h5', 2)]\n"
     ]
    },
    {
     "name": "stderr",
     "output_type": "stream",
     "text": [
      "/tmp/ipykernel_73993/2247503545.py:4: RuntimeWarning: divide by zero encountered in log10\n",
      "  map = 10*np.log10(bc.synthetic(ps1.fftfreq()[ind],0))+94\n"
     ]
    }
   ],
   "source": [
    "bc = ac.BeamformerCleansc(freq_data=ps1, steer=st, r_diag=True, damp=0.5, n=100)\n",
    "for f in (500,1000,2000,4000):\n",
    "    ind = np.argmin((ps1.fftfreq()-f)**2)\n",
    "    map = 10*np.log10(bc.synthetic(ps1.fftfreq()[ind],0))+94\n",
    "    np.savetxt(data / f'task4_TUB_Acoular_CleanSC_f_{f}.csv', map, delimiter=';')\n",
    "    #plt.figure()\n",
    "    #plt.imshow(ac.L_p(map.T),vmin=0)\n",
    "    #plt.colorbar()"
   ]
  },
  {
   "cell_type": "markdown",
   "id": "dd6edba3-843f-47b3-8b33-87773a981af2",
   "metadata": {},
   "source": [
    "## Task5"
   ]
  },
  {
   "cell_type": "code",
   "execution_count": null,
   "id": "8bbcd579-c700-4932-9a5b-3a3034ae5742",
   "metadata": {},
   "outputs": [],
   "source": [
    "jet = ac.SlotJet( v0=50.0, flow=(1,0,0), origin=(-2.01,0,2.3), B=2*(2.3-0.8)) \n",
    "env1 = ac.GeneralFlowEnvironment(ff=jet, N=400, c=338.21164, Om=1.2*np.pi)\n",
    "st.env = env1\n",
    "for f in (500,1000,2000,4000):\n",
    "    ind = np.argmin((ps1.fftfreq()-f)**2)\n",
    "    map = 10*np.log10(bb.synthetic(ps1.fftfreq()[ind],0))+94\n",
    "    np.savetxt(data / f'task5_TUB_Acoular_CBF_f_{f}.csv', map, delimiter=';')\n",
    "    #plt.figure()\n",
    "    #plt.imshow(ac.L_p(map.T),vmin=0)\n",
    "    #plt.colorbar()    "
   ]
  },
  {
   "cell_type": "markdown",
   "id": "5b6c1e83-5275-4de2-954b-5cad554b36b0",
   "metadata": {},
   "source": [
    "## Task6"
   ]
  },
  {
   "cell_type": "code",
   "execution_count": null,
   "id": "82b6f1b3-f70e-4fcd-b23d-f94703336bef",
   "metadata": {},
   "outputs": [],
   "source": [
    "sect = ac.RectSector(x_min=-0.5, x_max=0.5, y_min=-0.4, y_max=0.4)\n",
    "indices = np.arange(np.argmin((ps1.fftfreq()-400)**2),np.argmin((ps1.fftfreq()-4000)**2)+1)\n",
    "fr = ps1.fftfreq()[indices]\n",
    "levels = ac.L_p(bb.integrate(sect))[indices]\n",
    "np.savetxt(data / f'task6_TUB_Acoular_CBF_srcint.csv', np.vstack((fr,levels)).T, delimiter=';')\n",
    "#plt.semilogx(fr,levels)"
   ]
  },
  {
   "cell_type": "markdown",
   "id": "2a455478-77b5-4e24-bbd6-9e66340e20d1",
   "metadata": {},
   "source": [
    "## Task7"
   ]
  },
  {
   "cell_type": "code",
   "execution_count": null,
   "id": "46ef698c-5ba0-4cf7-8ebf-53f3689be3bb",
   "metadata": {},
   "outputs": [],
   "source": [
    "for f in (500,1000,2000,4000):\n",
    "    ind = np.argmin((ps1.fftfreq()-f)**2)\n",
    "    map = 10*np.log10(bc.synthetic(ps1.fftfreq()[ind],0))+94\n",
    "    np.savetxt(data / f'task7_TUB_Acoular_CleanSC_f_{f}.csv', map, delimiter=';')\n",
    "    #plt.figure()\n",
    "    #plt.imshow(ac.L_p(map.T),vmin=0)\n",
    "    #plt.colorbar()"
   ]
  },
  {
   "cell_type": "markdown",
   "id": "0107df6f-d00f-473d-9fd3-7a9b1ce75c40",
   "metadata": {},
   "source": [
    "## Task8"
   ]
  },
  {
   "cell_type": "code",
   "execution_count": null,
   "id": "98978536-096a-48b2-a3a4-b8692b7f0481",
   "metadata": {},
   "outputs": [],
   "source": [
    "levels = ac.L_p(bc.integrate(sect))[indices]\n",
    "np.savetxt(data / f'task8_TUB_Acoular_CleanSC_srcint.csv', np.vstack((fr,levels)).T, delimiter=';')\n",
    "#plt.semilogx(fr,levels)"
   ]
  },
  {
   "cell_type": "code",
   "execution_count": null,
   "id": "6492e9da-f138-4639-9f60-a0745169ad96",
   "metadata": {},
   "outputs": [],
   "source": []
  }
 ],
 "metadata": {
  "kernelspec": {
   "display_name": "Python 3 (ipykernel)",
   "language": "python",
   "name": "python3"
  },
  "language_info": {
   "codemirror_mode": {
    "name": "ipython",
    "version": 3
   },
   "file_extension": ".py",
   "mimetype": "text/x-python",
   "name": "python",
   "nbconvert_exporter": "python",
   "pygments_lexer": "ipython3",
   "version": "3.12.2"
  }
 },
 "nbformat": 4,
 "nbformat_minor": 5
}
